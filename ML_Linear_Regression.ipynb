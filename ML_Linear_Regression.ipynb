{
 "cells": [
  {
   "cell_type": "code",
   "execution_count": 1,
   "id": "c12bb423",
   "metadata": {},
   "outputs": [
    {
     "data": {
      "image/png": "[encoded data removed]",
      "text/plain": [
       "<Figure size 1000x500 with 1 Axes>"
      ]
     },
     "metadata": {},
     "output_type": "display_data"
    },
    {
     "name": "stdout",
     "output_type": "stream",
     "text": [
      "Модель: price = 98.91 + 0.0118*distance + 0.1105*duration + 38.7228*p_d_ratio + 41.7118*is_night\n",
      "MAE: 65.14 руб | RMSE: 88.59 руб\n"
     ]
    }
   ],
   "source": [
    "import pandas as pd\n",
    "import numpy as np\n",
    "import plotly.graph_objects as go\n",
    "from plotly.subplots import make_subplots\n",
    "import seaborn as sns\n",
    "import matplotlib.pyplot as plt\n",
    "from sklearn.linear_model import LinearRegression\n",
    "from sklearn.metrics import mean_absolute_error, mean_squared_error\n",
    "from sklearn.model_selection import train_test_split\n",
    "\n",
    "# Загрузка данных\n",
    "df = pd.read_csv('C:/Users/fkola/Drivee/incity_detail_202504151000_Processed.csv')\n",
    "\n",
    "# Преобразование времени\n",
    "df['tender_timestamp'] = pd.to_datetime(df['tender_timestamp'])\n",
    "df['hour'] = df['tender_timestamp'].dt.hour\n",
    "\n",
    "# Фильтрация данных\n",
    "df = df[(df['status_order'] == 'done') & (df['status_tender'] == 'done')].copy()\n",
    "# Пример фильтрации выбросов\n",
    "Q1 = df['price_tender_local'].quantile(0.05)\n",
    "Q3 = df['price_tender_local'].quantile(0.95)\n",
    "df = df[(df['price_tender_local'] >= Q1) & (df['price_tender_local'] <= Q3)]\n",
    "# Расчет признаков\n",
    "demand = df.groupby('hour')['order_id'].count().reset_index()\n",
    "demand.columns = ['hour', 'demand']\n",
    "df = df.merge(demand, on='hour')\n",
    "\n",
    "unique_passengers = df.groupby('hour')['client_id'].count()\n",
    "unique_drivers = df.groupby('hour')['driver_id'].nunique()\n",
    "df['p_d_ratio'] = df['hour'].map(unique_passengers / unique_drivers)\n",
    "\n",
    "df['is_night'] = df['hour'].apply(lambda x: 1 if x >= 23 or x <= 6 else 0)\n",
    "\n",
    "# Подготовка данных для модели\n",
    "X = df[['distance_in_meters', 'duration_in_seconds', 'p_d_ratio', 'is_night']]\n",
    "y = df['price_tender_local']\n",
    "\n",
    "# Разделение данных\n",
    "X_train, X_test, y_train, y_test = train_test_split(X, y, test_size=0.2, random_state=42)\n",
    "\n",
    "# Обучение модели\n",
    "model = LinearRegression()\n",
    "model.fit(X_train, y_train)\n",
    "\n",
    "# Предсказания и метрики\n",
    "y_pred = model.predict(X_test)\n",
    "mae = mean_absolute_error(y_test, y_pred)\n",
    "rmse = mean_squared_error(y_test, y_pred, squared=False)\n",
    "\n",
    "\n",
    "# Важность признаков\n",
    "importance = pd.DataFrame({\n",
    "    'Feature': X.columns,\n",
    "    'Importance': np.abs(model.coef_)\n",
    "}).sort_values('Importance', ascending=False)\n",
    "\n",
    "plt.figure(figsize=(10, 5))\n",
    "sns.barplot(x='Importance', y='Feature', data=importance, palette='viridis')\n",
    "plt.title('Важность признаков в модели')\n",
    "plt.show()\n",
    "\n",
    "# Вывод результатов\n",
    "print(f\"Модель: price = {model.intercept_:.2f} + {model.coef_[0]:.4f}*distance + \"\n",
    "      f\"{model.coef_[1]:.4f}*duration + {model.coef_[2]:.4f}*p_d_ratio + \"\n",
    "      f\"{model.coef_[3]:.4f}*is_night\")\n",
    "print(f\"MAE: {mae:.2f} руб | RMSE: {rmse:.2f} руб\")\n",
    "\n"
   ]
  },
  {
   "cell_type": "code",
   "execution_count": 4,
   "id": "4a6f5e7c",
   "metadata": {},
   "outputs": [
    {
     "name": "stdout",
     "output_type": "stream",
     "text": [
      "Предсказанная цена: 540.51 руб\n"
     ]
    }
   ],
   "source": [
    "input_data = {\n",
    "    'distance_in_meters': 10520,      # 10,52 км\n",
    "    'duration_in_seconds': 1200,      # 20 минут                    \n",
    "    'p_d_ratio': 2,                   # 2 пассажира на 1 водителя\n",
    "    'is_night': 1                     # 0 день 1 ночь df['is_night'] = df['hour'].apply(lambda x: 1 if x >= 23 or x <= 6 else 0)\n",
    "}\n",
    "\n",
    "\n",
    "# создаем ДФ который будем вбивать в предсказательную модель \n",
    "input_df = pd.DataFrame([input_data])\n",
    "\n",
    "# Выбираем нужные признаки в том же порядке, как при обучении\n",
    "X_input = input_df[['distance_in_meters', 'duration_in_seconds', 'p_d_ratio', 'is_night']]\n",
    "\n",
    "# вывод\n",
    "predicted_price = model.predict(X_input)[0]\n",
    "print(f\"Предсказанная цена: {predicted_price:.2f} руб\")"
   ]
  },
  {
   "cell_type": "code",
   "execution_count": null,
   "id": "48253826",
   "metadata": {},
   "outputs": [],
   "source": [
    "Модель: price = 98.91 + 0.0118*distance + 0.1105*duration + 38.7228*p_d_ratio + 41.7118*is_night\n",
    "MAE: 65.14 руб | RMSE: 88.59 руб"
   ]
  },
  {
   "cell_type": "code",
   "execution_count": null,
   "id": "0caec62f",
   "metadata": {},
   "outputs": [],
   "source": [
    "Модель: price = 65.92 + 0.0135*distance + 0.1130*duration + 41.3376*p_d_ratio + 46.8669*is_night\n",
    "MAE: 72.76 руб | RMSE: 106.68 руб"
   ]
  },
  {
   "cell_type": "code",
   "execution_count": null,
   "id": "1086af7c",
   "metadata": {},
   "outputs": [],
   "source": [
    "Модель: price = 74.79 + 0.0135*distance + 0.1125*duration + 47.9068*p_d_ratio + 41.0376*is_night\n",
    "MAE: 73.23 руб | RMSE: 107.28 руб\n"
   ]
  }
 ],
 "metadata": {
  "kernelspec": {
   "display_name": "Python 3 (ipykernel)",
   "language": "python",
   "name": "python3"
  },
  "language_info": {
   "codemirror_mode": {
    "name": "ipython",
    "version": 3
   },
   "file_extension": ".py",
   "mimetype": "text/x-python",
   "name": "python",
   "nbconvert_exporter": "python",
   "pygments_lexer": "ipython3",
   "version": "3.10.9"
  }
 },
 "nbformat": 4,
 "nbformat_minor": 5
}
