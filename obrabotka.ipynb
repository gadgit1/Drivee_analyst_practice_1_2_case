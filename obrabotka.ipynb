{
 "cells": [
  {
   "cell_type": "code",
   "execution_count": 1,
   "id": "6d6317c5",
   "metadata": {},
   "outputs": [],
   "source": [
    "import pandas as pd\n",
    "import numpy as np\n",
    "import matplotlib.pyplot as plt\n",
    "import seaborn as sns"
   ]
  },
  {
   "cell_type": "code",
   "execution_count": 2,
   "id": "71e0f36e",
   "metadata": {
    "scrolled": true
   },
   "outputs": [],
   "source": [
    "#print(df)"
   ]
  },
  {
   "cell_type": "code",
   "execution_count": null,
   "id": "084cc547",
   "metadata": {
    "scrolled": true
   },
   "outputs": [
    {
     "name": "stdout",
     "output_type": "stream",
     "text": [
      "        Unnamed: 0             client_id             driver_id    order_id  \\\n",
      "0                0  15148816526079601297   6968811171913217673  7813314236   \n",
      "1                1    938548145523320174   4945831599630792543  7813314238   \n",
      "2                2    938548145523320174  14038947698143041202  7813314238   \n",
      "3                3    938548145523320174  14145094156025184957  7813314238   \n",
      "4                4    938548145523320174  16361327316235461461  7813314238   \n",
      "...            ...                   ...                   ...         ...   \n",
      "684709      685265   1996006860919111922   4840705117187261483  7806832657   \n",
      "684710      685266   4187805460186748860   8713920464646755800  7806832668   \n",
      "684711      685267   4187805460186748860   3182296467646564671  7806832668   \n",
      "684712      685268   7183223463333597012  10723173721164842307  7806832673   \n",
      "684713      685269   7183223463333597012  13511902487654652113  7806832673   \n",
      "\n",
      "       created_date_order_part      order_timestamp     tender_timestamp  \\\n",
      "0                   2025-03-14  2025-03-14 23:46:04  2025-03-14 23:46:14   \n",
      "1                   2025-03-14  2025-03-14 23:46:05  2025-03-14 23:46:24   \n",
      "2                   2025-03-14  2025-03-14 23:46:05  2025-03-14 23:46:26   \n",
      "3                   2025-03-14  2025-03-14 23:46:05  2025-03-14 23:47:02   \n",
      "4                   2025-03-14  2025-03-14 23:46:05  2025-03-14 23:47:08   \n",
      "...                        ...                  ...                  ...   \n",
      "684709              2025-03-04  2025-03-04 20:51:24  2025-03-04 20:51:42   \n",
      "684710              2025-03-04  2025-03-04 20:51:28  2025-03-04 20:52:09   \n",
      "684711              2025-03-04  2025-03-04 20:51:28  2025-03-04 20:53:21   \n",
      "684712              2025-03-04  2025-03-04 20:51:31  2025-03-04 20:51:45   \n",
      "684713              2025-03-04  2025-03-04 20:51:31  2025-03-04 20:52:46   \n",
      "\n",
      "       clientcancel_timestamp driveraccept_timestamp drivercancel_timestamp  \\\n",
      "0                         NaN    2025-03-14 23:46:26                    NaN   \n",
      "1                         NaN                    NaN                    NaN   \n",
      "2                         NaN                    NaN                    NaN   \n",
      "3                         NaN                    NaN                    NaN   \n",
      "4                         NaN                    NaN                    NaN   \n",
      "...                       ...                    ...                    ...   \n",
      "684709                    NaN                    NaN                    NaN   \n",
      "684710                    NaN                    NaN                    NaN   \n",
      "684711                    NaN    2025-03-04 20:53:27    2025-03-04 20:54:05   \n",
      "684712                    NaN                    NaN                    NaN   \n",
      "684713                    NaN    2025-03-04 20:52:50                    NaN   \n",
      "\n",
      "        ... fromlongitude tolatitude tolongitude distance_in_meters  \\\n",
      "0       ...     30.269621  60.001492   30.363110            10918.0   \n",
      "1       ...     30.452259  59.925880   30.302570            22292.0   \n",
      "2       ...     30.452259  59.925880   30.302570            22292.0   \n",
      "3       ...     30.452259  59.925880   30.302570            22292.0   \n",
      "4       ...     30.452259  59.925880   30.302570            22292.0   \n",
      "...     ...           ...        ...         ...                ...   \n",
      "684709  ...     30.249821  59.771461   30.047199            17692.0   \n",
      "684710  ...     30.490829  59.919220   30.464439             5071.0   \n",
      "684711  ...     30.490829  59.919220   30.464439             5071.0   \n",
      "684712  ...     30.311386  59.925129   30.330893             3296.0   \n",
      "684713  ...     30.311386  59.925129   30.330893             3296.0   \n",
      "\n",
      "        duration_in_seconds    carname         carmodel  caryear  \\\n",
      "0                    1239.0  Chevrolet            Lanos   2008.0   \n",
      "1                    2185.0    Hyundai          Solaris   2021.0   \n",
      "2                    2185.0        Kia              Rio   2019.0   \n",
      "3                    2185.0      Chery          Tiggo 4   2022.0   \n",
      "4                    2185.0        Kia           Cerato   2019.0   \n",
      "...                     ...        ...              ...      ...   \n",
      "684709               1375.0        Kia           Optima   2019.0   \n",
      "684710                808.0    Hyundai          Solaris   2021.0   \n",
      "684711                808.0      Skoda          Octavia   2019.0   \n",
      "684712                551.0      Chery  Tiggo 7 PRO MAX   2024.0   \n",
      "684713                551.0        Kia              Rio   2021.0   \n",
      "\n",
      "        driver_rating  payment_method  \n",
      "0             4.93981            cash  \n",
      "1             4.94702            cash  \n",
      "2             4.99644            cash  \n",
      "3             4.98693            cash  \n",
      "4             4.80494            cash  \n",
      "...               ...             ...  \n",
      "684709        5.00000            cash  \n",
      "684710        5.00000            cash  \n",
      "684711        4.88751            cash  \n",
      "684712        4.98181            card  \n",
      "684713        4.95938            card  \n",
      "\n",
      "[684714 rows x 28 columns]\n"
     ]
    }
   ],
   "source": [
    "df = pd.read_csv('C:/Users/fkola/Drivee/incity_detail_202504151000_Processed.csv')\n",
    "df_test = df.loc[(df['fromlatitude'] > 55)  &  (df['fromlongitude'] > 25) & (df['fromlongitude'] < 35) & (df['fromlatitude'] < 62) ]\n",
    "print(df_test)\n",
    "df.to_excel('incity_detail_202504151000.xlsx') # создал файл в формате xlsx  чтобы было удобнее смотреть\n",
    "df_test.to_excel('incity_detail_202504151000_Processed.xlsx') # С этим файлом в итоге и работали, тут нет координат не СПБ"
   ]
  },
  {
   "cell_type": "code",
   "execution_count": 6,
   "id": "361c83fa",
   "metadata": {
    "scrolled": false
   },
   "outputs": [],
   "source": [
    "#ykt\n",
    "#df_test = df.loc[(df['fromlatitude'] > 60)  &  (df['fromlongitude'] > 120)]\n",
    "#print(df_test)"
   ]
  }
 ],
 "metadata": {
  "kernelspec": {
   "display_name": "Python 3 (ipykernel)",
   "language": "python",
   "name": "python3"
  },
  "language_info": {
   "codemirror_mode": {
    "name": "ipython",
    "version": 3
   },
   "file_extension": ".py",
   "mimetype": "text/x-python",
   "name": "python",
   "nbconvert_exporter": "python",
   "pygments_lexer": "ipython3",
   "version": "3.10.9"
  }
 },
 "nbformat": 4,
 "nbformat_minor": 5
}
